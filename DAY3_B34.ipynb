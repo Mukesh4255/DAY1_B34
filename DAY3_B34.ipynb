{
 "cells": [
  {
   "cell_type": "code",
   "execution_count": 1,
   "metadata": {},
   "outputs": [
    {
     "name": "stdout",
     "output_type": "stream",
     "text": [
      "Elon Musk\n"
     ]
    }
   ],
   "source": [
    "name = 'Elon Musk'   #this is a string\n",
    "print(name)"
   ]
  },
  {
   "cell_type": "code",
   "execution_count": null,
   "metadata": {},
   "outputs": [],
   "source": [
    "how to validate and conform which data type a variable is?"
   ]
  },
  {
   "cell_type": "code",
   "execution_count": 2,
   "metadata": {},
   "outputs": [
    {
     "data": {
      "text/plain": [
       "str"
      ]
     },
     "execution_count": 2,
     "metadata": {},
     "output_type": "execute_result"
    }
   ],
   "source": [
    "type(name)"
   ]
  },
  {
   "cell_type": "code",
   "execution_count": null,
   "metadata": {},
   "outputs": [],
   "source": []
  },
  {
   "cell_type": "code",
   "execution_count": 15,
   "metadata": {},
   "outputs": [
    {
     "name": "stdout",
     "output_type": "stream",
     "text": [
      "weclome to the world\n"
     ]
    }
   ],
   "source": [
    "full_name = 'weclome to the world' \n",
    "print(full_name)"
   ]
  },
  {
   "cell_type": "code",
   "execution_count": 5,
   "metadata": {},
   "outputs": [
    {
     "name": "stdout",
     "output_type": "stream",
     "text": [
      "Weclome To The World\n"
     ]
    }
   ],
   "source": [
    "print(full_name.title())  #1st letter of each word is capital"
   ]
  },
  {
   "cell_type": "code",
   "execution_count": 6,
   "metadata": {},
   "outputs": [
    {
     "name": "stdout",
     "output_type": "stream",
     "text": [
      "WECLOME TO THE WORLD\n"
     ]
    }
   ],
   "source": [
    "print(full_name.upper())  #upper() --is used when we need to have all the characters in capital letters"
   ]
  },
  {
   "cell_type": "code",
   "execution_count": 7,
   "metadata": {},
   "outputs": [
    {
     "name": "stdout",
     "output_type": "stream",
     "text": [
      "weclome to the world\n"
     ]
    }
   ],
   "source": [
    "print(full_name.lower()) #lower() -- is used when we need to have all the characters in small letters"
   ]
  },
  {
   "cell_type": "code",
   "execution_count": null,
   "metadata": {},
   "outputs": [],
   "source": []
  },
  {
   "cell_type": "code",
   "execution_count": null,
   "metadata": {},
   "outputs": [],
   "source": []
  },
  {
   "cell_type": "code",
   "execution_count": null,
   "metadata": {},
   "outputs": [],
   "source": [
    "Introduction to \"f\" strings"
   ]
  },
  {
   "cell_type": "code",
   "execution_count": null,
   "metadata": {},
   "outputs": [],
   "source": [
    "syntax of f strings: f \"custom note {placeholder1} {placeholder2}.......{placeholdern}\""
   ]
  },
  {
   "cell_type": "code",
   "execution_count": 9,
   "metadata": {},
   "outputs": [
    {
     "name": "stdout",
     "output_type": "stream",
     "text": [
      "Abdulkalam\n"
     ]
    }
   ],
   "source": [
    "first_name = 'Abdul'\n",
    "last_name = 'kalam'\n",
    "full_name = f\"{first_name}{last_name}\" #In this there is no space between two placeholders. So in the output we are not seeing any space between first_name and last_name\n",
    "print(full_name)"
   ]
  },
  {
   "cell_type": "code",
   "execution_count": 10,
   "metadata": {},
   "outputs": [
    {
     "name": "stdout",
     "output_type": "stream",
     "text": [
      "Abdul kalam\n"
     ]
    }
   ],
   "source": [
    "first_name = 'Abdul'\n",
    "last_name = 'kalam'\n",
    "full_name = f\"{first_name} {last_name}\" # In this as we had kept space between placeholders we can see that in the output there is a space\n",
    "print(full_name)"
   ]
  },
  {
   "cell_type": "code",
   "execution_count": 12,
   "metadata": {},
   "outputs": [
    {
     "name": "stdout",
     "output_type": "stream",
     "text": [
      "Abdul Kalam\n"
     ]
    }
   ],
   "source": [
    "first_name = 'abdul'\n",
    "last_name = 'kalam'\n",
    "full_name = f\"{first_name} {last_name}\" \n",
    "print(full_name.title())"
   ]
  },
  {
   "cell_type": "code",
   "execution_count": 16,
   "metadata": {},
   "outputs": [
    {
     "name": "stdout",
     "output_type": "stream",
     "text": [
      "Topper of the class is Pavan Kumar\n"
     ]
    }
   ],
   "source": [
    "#Adding a custom note.\n",
    "\n",
    "first_name = 'Pavan'\n",
    "last_name = 'Kumar'\n",
    "full_name = f\"Topper of the class is {first_name} {last_name}\"\n",
    "print(full_name)"
   ]
  },
  {
   "cell_type": "code",
   "execution_count": 17,
   "metadata": {},
   "outputs": [
    {
     "name": "stdout",
     "output_type": "stream",
     "text": [
      "Pavan Kumar is on leave today\n"
     ]
    }
   ],
   "source": [
    "first_name = 'Pavan'\n",
    "last_name = 'Kumar'\n",
    "full_name = f\"{first_name} {last_name} is on leave today\"\n",
    "print(full_name)"
   ]
  },
  {
   "cell_type": "code",
   "execution_count": null,
   "metadata": {},
   "outputs": [],
   "source": []
  },
  {
   "cell_type": "code",
   "execution_count": null,
   "metadata": {},
   "outputs": [],
   "source": []
  },
  {
   "cell_type": "code",
   "execution_count": null,
   "metadata": {},
   "outputs": [],
   "source": [
    "Adding whitespaces to strings"
   ]
  },
  {
   "cell_type": "code",
   "execution_count": 25,
   "metadata": {},
   "outputs": [
    {
     "name": "stdout",
     "output_type": "stream",
     "text": [
      "pythoncjavacobalc++\n"
     ]
    }
   ],
   "source": [
    "favlanguages = \"pythoncjavacobalc++\"\n",
    "print(favlanguages)"
   ]
  },
  {
   "cell_type": "code",
   "execution_count": 20,
   "metadata": {},
   "outputs": [
    {
     "name": "stdout",
     "output_type": "stream",
     "text": [
      "favlanguages:\n",
      "python\n",
      "c\n",
      "java\n",
      "cobal\n",
      "c++\n"
     ]
    }
   ],
   "source": [
    "print(\"favlanguages:\\npython\\nc\\njava\\ncobal\\nc++\")"
   ]
  },
  {
   "cell_type": "code",
   "execution_count": 22,
   "metadata": {},
   "outputs": [
    {
     "name": "stdout",
     "output_type": "stream",
     "text": [
      "Favlanguages:\n",
      "Python\n",
      "C\n",
      "Java\n",
      "Cobal\n",
      "C++\n"
     ]
    }
   ],
   "source": [
    "print(\"favlanguages:\\npython\\nc\\njava\\ncobal\\nc++\".title()) #to get 1st letters capital"
   ]
  },
  {
   "cell_type": "code",
   "execution_count": null,
   "metadata": {},
   "outputs": [],
   "source": []
  },
  {
   "cell_type": "code",
   "execution_count": null,
   "metadata": {},
   "outputs": [],
   "source": []
  },
  {
   "cell_type": "code",
   "execution_count": null,
   "metadata": {},
   "outputs": [],
   "source": []
  }
 ],
 "metadata": {
  "kernelspec": {
   "display_name": "Python 3",
   "language": "python",
   "name": "python3"
  },
  "language_info": {
   "codemirror_mode": {
    "name": "ipython",
    "version": 3
   },
   "file_extension": ".py",
   "mimetype": "text/x-python",
   "name": "python",
   "nbconvert_exporter": "python",
   "pygments_lexer": "ipython3",
   "version": "3.8.5"
  }
 },
 "nbformat": 4,
 "nbformat_minor": 4
}
